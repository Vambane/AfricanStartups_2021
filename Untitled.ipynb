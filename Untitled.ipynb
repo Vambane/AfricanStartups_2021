{
 "cells": [
  {
   "cell_type": "code",
   "execution_count": 2,
   "id": "5bff2cac",
   "metadata": {},
   "outputs": [],
   "source": [
    "import pandas as pd\n",
    "import numpy as np"
   ]
  },
  {
   "cell_type": "code",
   "execution_count": 3,
   "id": "407ab5c0",
   "metadata": {},
   "outputs": [],
   "source": [
    "#file location \n",
    "african_startups = r\"C:\\Users\\user\\Downloads\\AfricanStartups\\2021\\Funded African tech startups 2021.xlsx\"\n",
    "#read and assign the xlsx to a df\n",
    "df = pd.read_excel(african_startups)"
   ]
  },
  {
   "cell_type": "code",
   "execution_count": null,
   "id": "85f07ffa",
   "metadata": {},
   "outputs": [],
   "source": []
  }
 ],
 "metadata": {
  "kernelspec": {
   "display_name": "Python 3 (ipykernel)",
   "language": "python",
   "name": "python3"
  },
  "language_info": {
   "codemirror_mode": {
    "name": "ipython",
    "version": 3
   },
   "file_extension": ".py",
   "mimetype": "text/x-python",
   "name": "python",
   "nbconvert_exporter": "python",
   "pygments_lexer": "ipython3",
   "version": "3.9.13"
  }
 },
 "nbformat": 4,
 "nbformat_minor": 5
}
